{
 "cells": [
  {
   "cell_type": "code",
   "execution_count": 1,
   "id": "a928b574",
   "metadata": {},
   "outputs": [
    {
     "name": "stdout",
     "output_type": "stream",
     "text": [
      "c:\\Users\\fredl\\Documents\\Cours\\M1 Androide\\S2\\ML\\Projet\\src\n"
     ]
    },
    {
     "name": "stderr",
     "output_type": "stream",
     "text": [
      "C:\\Users\\fredl\\AppData\\Roaming\\Python\\Python313\\site-packages\\IPython\\core\\magics\\osm.py:417: UserWarning: This is now an optional IPython functionality, setting dhist requires you to install the `pickleshare` library.\n",
      "  self.shell.db['dhist'] = compress_dhist(dhist)[-100:]\n"
     ]
    }
   ],
   "source": [
    "cd ../src"
   ]
  },
  {
   "cell_type": "code",
   "execution_count": 2,
   "id": "9cf98b82",
   "metadata": {},
   "outputs": [],
   "source": [
    "import matplotlib.pyplot as plt\n",
    "import numpy as np\n",
    "from activation_func import *\n",
    "from loss import *\n",
    "from mltools import *\n",
    "from module import *\n",
    "from optimizers import *\n",
    "from mltools import *"
   ]
  },
  {
   "cell_type": "code",
   "execution_count": 3,
   "id": "2ed6f699",
   "metadata": {
    "vscode": {
     "languageId": "ruby"
    }
   },
   "outputs": [],
   "source": [
    "# Étude de l'Impact des Fonctions d'Activation\n",
    "\n",
    "# Définition des fonctions d'activation à tester\n",
    "activation_functions = {\n",
    "    'ReLU': ReLU,\n",
    "    'TanH': TanH,\n",
    "    'Sigmoid': Sigmoid,\n",
    "    'LeakyReLU': LeakyReLU\n",
    "}\n",
    "\n",
    "# Stockage des résultats\n",
    "results = {}\n",
    "\n",
    "# Génération d'un jeu de données de classification binaire\n",
    "from sklearn.datasets import make_moons\n",
    "from sklearn.model_selection import train_test_split\n",
    "\n",
    "X, y = make_moons(n_samples=1000, noise=0.2, random_state=42)\n",
    "X_train, X_test, y_train, y_test = train_test_split(X, y, test_size=0.2, random_state=42)"
   ]
  },
  {
   "cell_type": "code",
   "execution_count": null,
   "id": "cfaae5c5",
   "metadata": {},
   "outputs": [
    {
     "name": "stderr",
     "output_type": "stream",
     "text": [
      "  0%|          | 0/100 [00:00<?, ?it/s]\n"
     ]
    },
    {
     "ename": "AttributeError",
     "evalue": "'list' object has no attribute 'forward'",
     "output_type": "error",
     "traceback": [
      "\u001b[1;31m---------------------------------------------------------------------------\u001b[0m",
      "\u001b[1;31mAttributeError\u001b[0m                            Traceback (most recent call last)",
      "Cell \u001b[1;32mIn[7], line 22\u001b[0m\n\u001b[0;32m     19\u001b[0m num_iteration \u001b[38;5;241m=\u001b[39m \u001b[38;5;241m100\u001b[39m\n\u001b[0;32m     21\u001b[0m \u001b[38;5;66;03m# Entraînement\u001b[39;00m\n\u001b[1;32m---> 22\u001b[0m history \u001b[38;5;241m=\u001b[39m \u001b[43moptimizer\u001b[49m\u001b[38;5;241;43m.\u001b[39;49m\u001b[43mSGD\u001b[49m\u001b[43m(\u001b[49m\n\u001b[0;32m     23\u001b[0m \u001b[43m    \u001b[49m\u001b[43mX_train\u001b[49m\u001b[43m,\u001b[49m\u001b[43m \u001b[49m\u001b[43my_train\u001b[49m\u001b[43m,\u001b[49m\u001b[43m \u001b[49m\u001b[38;5;241;43m1\u001b[39;49m\u001b[43m,\u001b[49m\u001b[43m \u001b[49m\u001b[38;5;241;43m100\u001b[39;49m\n\u001b[0;32m     24\u001b[0m \u001b[43m\u001b[49m\u001b[43m)\u001b[49m\n\u001b[0;32m     26\u001b[0m \u001b[38;5;66;03m# Évaluation sur le test set\u001b[39;00m\n\u001b[0;32m     27\u001b[0m y_pred \u001b[38;5;241m=\u001b[39m model\u001b[38;5;241m.\u001b[39mpredict(X_test)\n",
      "File \u001b[1;32mc:\\Users\\fredl\\Documents\\Cours\\M1 Androide\\S2\\ML\\Projet\\src\\optimizers.py:29\u001b[0m, in \u001b[0;36mOptim.SGD\u001b[1;34m(self, data_x, data_y, batch_size, num_iterations)\u001b[0m\n\u001b[0;32m     27\u001b[0m     batch_x \u001b[38;5;241m=\u001b[39m data_x[batch_indices]\n\u001b[0;32m     28\u001b[0m     batch_y \u001b[38;5;241m=\u001b[39m data_y[batch_indices]\n\u001b[1;32m---> 29\u001b[0m     loss\u001b[38;5;241m.\u001b[39mappend(\u001b[38;5;28;43mself\u001b[39;49m\u001b[38;5;241;43m.\u001b[39;49m\u001b[43mstep\u001b[49m\u001b[43m(\u001b[49m\u001b[43mbatch_x\u001b[49m\u001b[43m,\u001b[49m\u001b[43m \u001b[49m\u001b[43mbatch_y\u001b[49m\u001b[43m)\u001b[49m)\n\u001b[0;32m     30\u001b[0m loss \u001b[38;5;241m=\u001b[39m np\u001b[38;5;241m.\u001b[39mmean(loss)\n\u001b[0;32m     31\u001b[0m losses\u001b[38;5;241m.\u001b[39mappend(loss)\n",
      "File \u001b[1;32mc:\\Users\\fredl\\Documents\\Cours\\M1 Androide\\S2\\ML\\Projet\\src\\optimizers.py:12\u001b[0m, in \u001b[0;36mOptim.step\u001b[1;34m(self, batch_x, batch_y)\u001b[0m\n\u001b[0;32m     11\u001b[0m \u001b[38;5;28;01mdef\u001b[39;00m\u001b[38;5;250m \u001b[39m\u001b[38;5;21mstep\u001b[39m(\u001b[38;5;28mself\u001b[39m, batch_x, batch_y):\n\u001b[1;32m---> 12\u001b[0m     output \u001b[38;5;241m=\u001b[39m \u001b[38;5;28;43mself\u001b[39;49m\u001b[38;5;241;43m.\u001b[39;49m\u001b[43mnet\u001b[49m\u001b[38;5;241;43m.\u001b[39;49m\u001b[43mforward\u001b[49m\u001b[43m(\u001b[49m\u001b[43mbatch_x\u001b[49m\u001b[43m)\u001b[49m\n\u001b[0;32m     13\u001b[0m     loss \u001b[38;5;241m=\u001b[39m np\u001b[38;5;241m.\u001b[39mmean(\u001b[38;5;28mself\u001b[39m\u001b[38;5;241m.\u001b[39mloss\u001b[38;5;241m.\u001b[39mforward(batch_y, output))\n\u001b[0;32m     14\u001b[0m     \u001b[38;5;28mself\u001b[39m\u001b[38;5;241m.\u001b[39mnet\u001b[38;5;241m.\u001b[39mzero_grad()\n",
      "File \u001b[1;32mc:\\Users\\fredl\\Documents\\Cours\\M1 Androide\\S2\\ML\\Projet\\src\\module.py:136\u001b[0m, in \u001b[0;36mSequential.forward\u001b[1;34m(self, X)\u001b[0m\n\u001b[0;32m    134\u001b[0m \u001b[38;5;28mself\u001b[39m\u001b[38;5;241m.\u001b[39minputs \u001b[38;5;241m=\u001b[39m [X]\n\u001b[0;32m    135\u001b[0m \u001b[38;5;28;01mfor\u001b[39;00m module \u001b[38;5;129;01min\u001b[39;00m \u001b[38;5;28mself\u001b[39m\u001b[38;5;241m.\u001b[39mmodules:\n\u001b[1;32m--> 136\u001b[0m     X \u001b[38;5;241m=\u001b[39m \u001b[43mmodule\u001b[49m\u001b[38;5;241;43m.\u001b[39;49m\u001b[43mforward\u001b[49m(X)\n\u001b[0;32m    137\u001b[0m     \u001b[38;5;28mself\u001b[39m\u001b[38;5;241m.\u001b[39minputs\u001b[38;5;241m.\u001b[39mappend(X)\n\u001b[0;32m    138\u001b[0m \u001b[38;5;28;01mreturn\u001b[39;00m X\n",
      "\u001b[1;31mAttributeError\u001b[0m: 'list' object has no attribute 'forward'"
     ]
    }
   ],
   "source": [
    "# Pour chaque fonction d'activation, entraîner un réseau et stocker les résultats\n",
    "\n",
    "for name, activation in activation_functions.items():\n",
    "    # Définir le modèle avec la fonction d'activation courante\n",
    "    model = Sequential([\n",
    "        Linear(X_train.shape[1], 16),\n",
    "        activation(),\n",
    "        Linear(16, 8),\n",
    "        activation(),\n",
    "        Linear(8, 1),\n",
    "        Sigmoid()  # Sortie pour classification binaire\n",
    "    ])\n",
    "\n",
    "    # Définir la fonction de perte et l'optimiseur\n",
    "    criterion = BCELoss()\n",
    "    optimizer = Optim(model, criterion, 0.01)\n",
    "    data_x, data_y = X_train, y_train\n",
    "    batch_size = 32\n",
    "    num_iteration = 100\n",
    "\n",
    "    # Entraînement\n",
    "    history = optimizer.SGD(\n",
    "        X_train, y_train, 32, 100\n",
    "    )\n",
    "\n",
    "    # Évaluation sur le test set\n",
    "    y_pred = model.predict(X_test)\n",
    "    y_pred_labels = (y_pred > 0.5).astype(int)\n",
    "    accuracy = (y_pred_labels.flatten() == y_test).mean()\n",
    "\n",
    "    # Stocker les résultats\n",
    "    results[name] = {\n",
    "        'history': history,\n",
    "        'accuracy': accuracy,\n",
    "        'model': model\n",
    "    }"
   ]
  },
  {
   "cell_type": "code",
   "execution_count": null,
   "id": "d2d176c7",
   "metadata": {},
   "outputs": [],
   "source": []
  }
 ],
 "metadata": {
  "kernelspec": {
   "display_name": "Python 3",
   "language": "python",
   "name": "python3"
  },
  "language_info": {
   "codemirror_mode": {
    "name": "ipython",
    "version": 3
   },
   "file_extension": ".py",
   "mimetype": "text/x-python",
   "name": "python",
   "nbconvert_exporter": "python",
   "pygments_lexer": "ipython3",
   "version": "3.13.1"
  }
 },
 "nbformat": 4,
 "nbformat_minor": 5
}
