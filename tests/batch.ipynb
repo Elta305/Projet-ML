{
 "cells": [
  {
   "cell_type": "code",
   "execution_count": 1,
   "id": "f93dd7f8",
   "metadata": {},
   "outputs": [
    {
     "name": "stdout",
     "output_type": "stream",
     "text": [
      "c:\\Users\\fredl\\Documents\\Cours\\M1 Androide\\S2\\ML\\Projet\\src\n"
     ]
    },
    {
     "name": "stderr",
     "output_type": "stream",
     "text": [
      "C:\\Users\\fredl\\AppData\\Roaming\\Python\\Python313\\site-packages\\IPython\\core\\magics\\osm.py:417: UserWarning: This is now an optional IPython functionality, setting dhist requires you to install the `pickleshare` library.\n",
      "  self.shell.db['dhist'] = compress_dhist(dhist)[-100:]\n"
     ]
    }
   ],
   "source": [
    "cd ../src"
   ]
  },
  {
   "cell_type": "code",
   "execution_count": 2,
   "id": "7f54c3c8",
   "metadata": {},
   "outputs": [],
   "source": [
    "import matplotlib.pyplot as plt\n",
    "import numpy as np\n",
    "from activation_func import *\n",
    "from loss import *\n",
    "from mltools import *\n",
    "from module import *\n",
    "from optimizers import *\n",
    "from mltools import *"
   ]
  },
  {
   "cell_type": "code",
   "execution_count": null,
   "id": "da3eba28",
   "metadata": {},
   "outputs": [],
   "source": [
    "import time\n",
    "import tracemalloc\n",
    "\n",
    "# Hypothèse : X_train, y_train, X_test, y_test sont déjà préparés\n",
    "\n",
    "model = Sequential(\n",
    "    Linear(X_train.shape[1], 64),\n",
    "    ReLU(),\n",
    "    Linear(64, 32),\n",
    "    ReLU(),\n",
    "    Linear(32, np.unique(y_train).size),  # nombre de classes\n",
    "    Softmax()\n",
    ")\n",
    "loss_fn = CrossEntropyLoss()\n",
    "optimizer = Optim(model, loss_fn, 0.01)\n",
    "\n",
    "batch_sizes = [1, 16, 64, 256]\n",
    "results = {}\n",
    "\n",
    "for batch_size in batch_sizes:\n",
    "    epoch_precisions = []\n",
    "    epoch_times = []\n",
    "    epoch_memories = []\n",
    "    n_epochs = 20\n",
    "\n",
    "    for epoch in range(n_epochs):\n",
    "        start_time = time.time()\n",
    "        tracemalloc.start()\n",
    "        \n",
    "        # Shuffle and batch training\n",
    "        for i in range(0, len(X_train), batch_size):\n",
    "            X_batch = X_train[i:i+batch_size]\n",
    "            y_batch = y_train[i:i+batch_size]\n",
    "            model.train_on_batch(X_batch, y_batch)\n",
    "        \n",
    "        current, peak = tracemalloc.get_traced_memory()\n",
    "        tracemalloc.stop()\n",
    "        elapsed = time.time() - start_time\n",
    "\n",
    "        # Évaluation sur le jeu de test\n",
    "        y_pred = model.predict(X_test)\n",
    "        precision = np.mean(y_pred == y_test)\n",
    "\n",
    "        epoch_precisions.append(precision)\n",
    "        epoch_times.append(elapsed)\n",
    "        epoch_memories.append(peak / 1024 / 1024)  # en Mo\n",
    "\n",
    "    results[batch_size] = {\n",
    "        \"precisions\": epoch_precisions,\n",
    "        \"times\": epoch_times,\n",
    "        \"memories\": epoch_memories\n",
    "    }\n",
    "\n",
    "# Rapport visuel : précision en fonction du temps cumulé pour chaque batch_size\n",
    "for batch_size in batch_sizes:\n",
    "    plt.plot(np.cumsum(results[batch_size][\"times\"]), results[batch_size][\"precisions\"], label=f\"Batch {batch_size}\")\n",
    "\n",
    "plt.xlabel(\"Temps cumulé (s)\")\n",
    "plt.ylabel(\"Précision\")\n",
    "plt.title(\"Évolution de la précision en fonction du temps réel pour chaque taille de batch\")\n",
    "plt.legend()\n",
    "plt.show()"
   ]
  }
 ],
 "metadata": {
  "kernelspec": {
   "display_name": "Python 3",
   "language": "python",
   "name": "python3"
  },
  "language_info": {
   "codemirror_mode": {
    "name": "ipython",
    "version": 3
   },
   "file_extension": ".py",
   "mimetype": "text/x-python",
   "name": "python",
   "nbconvert_exporter": "python",
   "pygments_lexer": "ipython3",
   "version": "3.13.1"
  }
 },
 "nbformat": 4,
 "nbformat_minor": 5
}
