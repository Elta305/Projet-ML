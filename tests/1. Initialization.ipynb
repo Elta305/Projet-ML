{
 "cells": [
  {
   "cell_type": "markdown",
   "id": "f7ad9622",
   "metadata": {},
   "source": [
    "# Etude sur l'initialisation des paramètres"
   ]
  },
  {
   "cell_type": "markdown",
   "id": "952eda48",
   "metadata": {},
   "source": [
    "random.randn"
   ]
  },
  {
   "cell_type": "code",
   "execution_count": null,
   "id": "a2636bfa",
   "metadata": {
    "vscode": {
     "languageId": "plaintext"
    }
   },
   "outputs": [],
   "source": []
  },
  {
   "cell_type": "markdown",
   "id": "456ab120",
   "metadata": {},
   "source": [
    "he_normal"
   ]
  },
  {
   "cell_type": "code",
   "execution_count": null,
   "id": "1e7c12ee",
   "metadata": {
    "vscode": {
     "languageId": "plaintext"
    }
   },
   "outputs": [],
   "source": []
  },
  {
   "cell_type": "markdown",
   "id": "81e0f00a",
   "metadata": {},
   "source": [
    "uniform"
   ]
  },
  {
   "cell_type": "code",
   "execution_count": null,
   "id": "5fef1804",
   "metadata": {
    "vscode": {
     "languageId": "plaintext"
    }
   },
   "outputs": [],
   "source": []
  },
  {
   "cell_type": "markdown",
   "id": "c5667150",
   "metadata": {},
   "source": [
    "xavier"
   ]
  },
  {
   "cell_type": "code",
   "execution_count": null,
   "id": "4696cee4",
   "metadata": {
    "vscode": {
     "languageId": "plaintext"
    }
   },
   "outputs": [],
   "source": []
  }
 ],
 "metadata": {
  "language_info": {
   "name": "python"
  }
 },
 "nbformat": 4,
 "nbformat_minor": 5
}
